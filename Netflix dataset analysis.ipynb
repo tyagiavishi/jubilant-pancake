{
 "cells": [
  {
   "cell_type": "markdown",
   "id": "0387b904",
   "metadata": {},
   "source": [
    "# Problem statement"
   ]
  },
  {
   "cell_type": "markdown",
   "id": "356e8770",
   "metadata": {},
   "source": [
    "This dataset is a collection of movies and tv shows I watched on Netflix. The sole purpose of this project is to analyse the data and identify the trends and relation between different categories such as Genre, IMDB rating etc."
   ]
  },
  {
   "cell_type": "markdown",
   "id": "7e174e56",
   "metadata": {},
   "source": [
    "# Data collection"
   ]
  },
  {
   "cell_type": "markdown",
   "id": "cfd3383d",
   "metadata": {},
   "source": [
    "This data was extracted from my Netflix account and some additions were made by me."
   ]
  },
  {
   "cell_type": "markdown",
   "id": "8cfb5694",
   "metadata": {},
   "source": [
    "# Data ingestion"
   ]
  },
  {
   "cell_type": "code",
   "execution_count": 15,
   "id": "e046d8e3",
   "metadata": {},
   "outputs": [],
   "source": [
    "#importing all necessary libraries \n",
    "import numpy as np#linear algebra\n",
    "import pandas as pd #for data preparation\n",
    "import matplotlib.pyplot as plt #for \n",
    "import plotly.express as px # for data visualization\n",
    "import seaborn as sns\n",
    "import warnings\n",
    "warnings.filterwarnings(\"ignore\")"
   ]
  },
  {
   "cell_type": "code",
   "execution_count": 16,
   "id": "a54bd172",
   "metadata": {},
   "outputs": [
    {
     "data": {
      "text/html": [
       "<div>\n",
       "<style scoped>\n",
       "    .dataframe tbody tr th:only-of-type {\n",
       "        vertical-align: middle;\n",
       "    }\n",
       "\n",
       "    .dataframe tbody tr th {\n",
       "        vertical-align: top;\n",
       "    }\n",
       "\n",
       "    .dataframe thead th {\n",
       "        text-align: right;\n",
       "    }\n",
       "</style>\n",
       "<table border=\"1\" class=\"dataframe\">\n",
       "  <thead>\n",
       "    <tr style=\"text-align: right;\">\n",
       "      <th></th>\n",
       "      <th>Title</th>\n",
       "      <th>Genre</th>\n",
       "      <th>Age Rating</th>\n",
       "      <th>Content Type</th>\n",
       "      <th>Duration(min)</th>\n",
       "      <th>Origin Country</th>\n",
       "      <th>Main Cast</th>\n",
       "      <th>Audio</th>\n",
       "      <th>IMDB rate</th>\n",
       "      <th>Seasons</th>\n",
       "      <th>Release Year</th>\n",
       "      <th>Unnamed: 11</th>\n",
       "      <th>Unnamed: 12</th>\n",
       "      <th>Unnamed: 13</th>\n",
       "    </tr>\n",
       "  </thead>\n",
       "  <tbody>\n",
       "    <tr>\n",
       "      <th>0</th>\n",
       "      <td>Lucifer: Season 5: Daniel Espinoza: Naked and ...</td>\n",
       "      <td>Crime, Fantasy</td>\n",
       "      <td>16+</td>\n",
       "      <td>TV Show</td>\n",
       "      <td>43</td>\n",
       "      <td>United States</td>\n",
       "      <td>Tom Ellis , Lauren German ,Kevin Alejandro, D....</td>\n",
       "      <td>English</td>\n",
       "      <td>8.1</td>\n",
       "      <td>6.0</td>\n",
       "      <td>2016.0</td>\n",
       "      <td>NaN</td>\n",
       "      <td>NaN</td>\n",
       "      <td>NaN</td>\n",
       "    </tr>\n",
       "    <tr>\n",
       "      <th>1</th>\n",
       "      <td>Lucifer: Season 5: Resting Devil Face</td>\n",
       "      <td>Crime, Fantasy</td>\n",
       "      <td>16+</td>\n",
       "      <td>TV Show</td>\n",
       "      <td>43</td>\n",
       "      <td>United States</td>\n",
       "      <td>Tom Ellis , Lauren German ,Kevin Alejandro, D....</td>\n",
       "      <td>English</td>\n",
       "      <td>8.1</td>\n",
       "      <td>6.0</td>\n",
       "      <td>2016.0</td>\n",
       "      <td>NaN</td>\n",
       "      <td>NaN</td>\n",
       "      <td>NaN</td>\n",
       "    </tr>\n",
       "    <tr>\n",
       "      <th>2</th>\n",
       "      <td>Lucifer: Season 5: Bloody Celestial Karaoke Jam</td>\n",
       "      <td>Crime, Fantasy</td>\n",
       "      <td>16+</td>\n",
       "      <td>TV Show</td>\n",
       "      <td>43</td>\n",
       "      <td>United States</td>\n",
       "      <td>Tom Ellis , Lauren German ,Kevin Alejandro, D....</td>\n",
       "      <td>English</td>\n",
       "      <td>8.1</td>\n",
       "      <td>6.0</td>\n",
       "      <td>2016.0</td>\n",
       "      <td>NaN</td>\n",
       "      <td>NaN</td>\n",
       "      <td>NaN</td>\n",
       "    </tr>\n",
       "    <tr>\n",
       "      <th>3</th>\n",
       "      <td>Lucifer: Season 5: Family Dinner</td>\n",
       "      <td>Crime, Fantasy</td>\n",
       "      <td>16+</td>\n",
       "      <td>TV Show</td>\n",
       "      <td>43</td>\n",
       "      <td>United States</td>\n",
       "      <td>Tom Ellis , Lauren German ,Kevin Alejandro, D....</td>\n",
       "      <td>English</td>\n",
       "      <td>8.1</td>\n",
       "      <td>6.0</td>\n",
       "      <td>2016.0</td>\n",
       "      <td>NaN</td>\n",
       "      <td>NaN</td>\n",
       "      <td>NaN</td>\n",
       "    </tr>\n",
       "    <tr>\n",
       "      <th>4</th>\n",
       "      <td>Extraction 2</td>\n",
       "      <td>Action</td>\n",
       "      <td>18+</td>\n",
       "      <td>Movie</td>\n",
       "      <td>123</td>\n",
       "      <td>United States</td>\n",
       "      <td>Chris Hemsworth , Golshifteh Farahani ,  Adam ...</td>\n",
       "      <td>English</td>\n",
       "      <td>7.1</td>\n",
       "      <td>2.0</td>\n",
       "      <td>2023.0</td>\n",
       "      <td>NaN</td>\n",
       "      <td>NaN</td>\n",
       "      <td>NaN</td>\n",
       "    </tr>\n",
       "    <tr>\n",
       "      <th>5</th>\n",
       "      <td>Friends: Season 2: The One Where Joey Moves Out</td>\n",
       "      <td>Comedy</td>\n",
       "      <td>13+</td>\n",
       "      <td>TV Show</td>\n",
       "      <td>22</td>\n",
       "      <td>United States</td>\n",
       "      <td>Jennifer Aniston, Courtney Cox, Lisa Kudrow, M...</td>\n",
       "      <td>English</td>\n",
       "      <td>8.9</td>\n",
       "      <td>10.0</td>\n",
       "      <td>1994.0</td>\n",
       "      <td>NaN</td>\n",
       "      <td>NaN</td>\n",
       "      <td>NaN</td>\n",
       "    </tr>\n",
       "    <tr>\n",
       "      <th>6</th>\n",
       "      <td>Friends: Season 10: The One with Ross's Grant</td>\n",
       "      <td>Comedy</td>\n",
       "      <td>13+</td>\n",
       "      <td>TV Show</td>\n",
       "      <td>22</td>\n",
       "      <td>United States</td>\n",
       "      <td>Jennifer Aniston, Courtney Cox, Lisa Kudrow, M...</td>\n",
       "      <td>English</td>\n",
       "      <td>8.9</td>\n",
       "      <td>10.0</td>\n",
       "      <td>1994.0</td>\n",
       "      <td>NaN</td>\n",
       "      <td>NaN</td>\n",
       "      <td>NaN</td>\n",
       "    </tr>\n",
       "    <tr>\n",
       "      <th>7</th>\n",
       "      <td>See You in My 19th Life: The Inability to Forg...</td>\n",
       "      <td>Romance</td>\n",
       "      <td>13+</td>\n",
       "      <td>TV Show</td>\n",
       "      <td>60</td>\n",
       "      <td>South Korea</td>\n",
       "      <td>Shin Hye-sun, Ahn Bo-hyun, Ha Yoon-kyung, and ...</td>\n",
       "      <td>Korean</td>\n",
       "      <td>8.8</td>\n",
       "      <td>1.0</td>\n",
       "      <td>2023.0</td>\n",
       "      <td>NaN</td>\n",
       "      <td>NaN</td>\n",
       "      <td>NaN</td>\n",
       "    </tr>\n",
       "    <tr>\n",
       "      <th>8</th>\n",
       "      <td>See You in My 19th Life: Am I the Butterfly or...</td>\n",
       "      <td>Romance</td>\n",
       "      <td>13+</td>\n",
       "      <td>TV Show</td>\n",
       "      <td>60</td>\n",
       "      <td>South Korea</td>\n",
       "      <td>Shin Hye-sun, Ahn Bo-hyun, Ha Yoon-kyung, and ...</td>\n",
       "      <td>Korean</td>\n",
       "      <td>8.8</td>\n",
       "      <td>1.0</td>\n",
       "      <td>2023.0</td>\n",
       "      <td>NaN</td>\n",
       "      <td>NaN</td>\n",
       "      <td>NaN</td>\n",
       "    </tr>\n",
       "    <tr>\n",
       "      <th>9</th>\n",
       "      <td>See You in My 19th Life: The Agony of Parting ...</td>\n",
       "      <td>Romance</td>\n",
       "      <td>13+</td>\n",
       "      <td>TV Show</td>\n",
       "      <td>60</td>\n",
       "      <td>South Korea</td>\n",
       "      <td>Shin Hye-sun, Ahn Bo-hyun, Ha Yoon-kyung, and ...</td>\n",
       "      <td>Korean</td>\n",
       "      <td>8.8</td>\n",
       "      <td>1.0</td>\n",
       "      <td>2023.0</td>\n",
       "      <td>NaN</td>\n",
       "      <td>NaN</td>\n",
       "      <td>NaN</td>\n",
       "    </tr>\n",
       "  </tbody>\n",
       "</table>\n",
       "</div>"
      ],
      "text/plain": [
       "                                               Title           Genre  \\\n",
       "0  Lucifer: Season 5: Daniel Espinoza: Naked and ...  Crime, Fantasy   \n",
       "1              Lucifer: Season 5: Resting Devil Face  Crime, Fantasy   \n",
       "2    Lucifer: Season 5: Bloody Celestial Karaoke Jam  Crime, Fantasy   \n",
       "3                   Lucifer: Season 5: Family Dinner  Crime, Fantasy   \n",
       "4                                       Extraction 2          Action   \n",
       "5    Friends: Season 2: The One Where Joey Moves Out          Comedy   \n",
       "6      Friends: Season 10: The One with Ross's Grant          Comedy   \n",
       "7  See You in My 19th Life: The Inability to Forg...         Romance   \n",
       "8  See You in My 19th Life: Am I the Butterfly or...         Romance   \n",
       "9  See You in My 19th Life: The Agony of Parting ...         Romance   \n",
       "\n",
       "  Age Rating Content Type  Duration(min) Origin Country  \\\n",
       "0        16+      TV Show             43  United States   \n",
       "1        16+      TV Show             43  United States   \n",
       "2        16+      TV Show             43  United States   \n",
       "3        16+      TV Show             43  United States   \n",
       "4        18+        Movie            123  United States   \n",
       "5        13+      TV Show             22  United States   \n",
       "6        13+      TV Show             22  United States   \n",
       "7        13+      TV Show             60    South Korea   \n",
       "8        13+      TV Show             60    South Korea   \n",
       "9        13+      TV Show             60    South Korea   \n",
       "\n",
       "                                           Main Cast    Audio  IMDB rate  \\\n",
       "0  Tom Ellis , Lauren German ,Kevin Alejandro, D....  English        8.1   \n",
       "1  Tom Ellis , Lauren German ,Kevin Alejandro, D....  English        8.1   \n",
       "2  Tom Ellis , Lauren German ,Kevin Alejandro, D....  English        8.1   \n",
       "3  Tom Ellis , Lauren German ,Kevin Alejandro, D....  English        8.1   \n",
       "4  Chris Hemsworth , Golshifteh Farahani ,  Adam ...  English        7.1   \n",
       "5  Jennifer Aniston, Courtney Cox, Lisa Kudrow, M...  English        8.9   \n",
       "6  Jennifer Aniston, Courtney Cox, Lisa Kudrow, M...  English        8.9   \n",
       "7  Shin Hye-sun, Ahn Bo-hyun, Ha Yoon-kyung, and ...   Korean        8.8   \n",
       "8  Shin Hye-sun, Ahn Bo-hyun, Ha Yoon-kyung, and ...   Korean        8.8   \n",
       "9  Shin Hye-sun, Ahn Bo-hyun, Ha Yoon-kyung, and ...   Korean        8.8   \n",
       "\n",
       "   Seasons  Release Year  Unnamed: 11  Unnamed: 12  Unnamed: 13  \n",
       "0      6.0        2016.0          NaN          NaN          NaN  \n",
       "1      6.0        2016.0          NaN          NaN          NaN  \n",
       "2      6.0        2016.0          NaN          NaN          NaN  \n",
       "3      6.0        2016.0          NaN          NaN          NaN  \n",
       "4      2.0        2023.0          NaN          NaN          NaN  \n",
       "5     10.0        1994.0          NaN          NaN          NaN  \n",
       "6     10.0        1994.0          NaN          NaN          NaN  \n",
       "7      1.0        2023.0          NaN          NaN          NaN  \n",
       "8      1.0        2023.0          NaN          NaN          NaN  \n",
       "9      1.0        2023.0          NaN          NaN          NaN  "
      ]
     },
     "execution_count": 16,
     "metadata": {},
     "output_type": "execute_result"
    }
   ],
   "source": [
    "data = pd.read_csv(r\"C:\\Users\\LENOVO\\OneDrive\\Documents\\Netflix_file.csv\")\n",
    "data.head(10)"
   ]
  },
  {
   "cell_type": "code",
   "execution_count": 17,
   "id": "7306f971",
   "metadata": {},
   "outputs": [
    {
     "data": {
      "text/html": [
       "<div>\n",
       "<style scoped>\n",
       "    .dataframe tbody tr th:only-of-type {\n",
       "        vertical-align: middle;\n",
       "    }\n",
       "\n",
       "    .dataframe tbody tr th {\n",
       "        vertical-align: top;\n",
       "    }\n",
       "\n",
       "    .dataframe thead th {\n",
       "        text-align: right;\n",
       "    }\n",
       "</style>\n",
       "<table border=\"1\" class=\"dataframe\">\n",
       "  <thead>\n",
       "    <tr style=\"text-align: right;\">\n",
       "      <th></th>\n",
       "      <th>Title</th>\n",
       "      <th>Genre</th>\n",
       "      <th>Age Rating</th>\n",
       "      <th>Content Type</th>\n",
       "      <th>Duration(min)</th>\n",
       "      <th>Origin Country</th>\n",
       "      <th>Main Cast</th>\n",
       "      <th>Audio</th>\n",
       "      <th>IMDB rate</th>\n",
       "      <th>Seasons</th>\n",
       "      <th>Release Year</th>\n",
       "      <th>Unnamed: 11</th>\n",
       "      <th>Unnamed: 12</th>\n",
       "      <th>Unnamed: 13</th>\n",
       "    </tr>\n",
       "  </thead>\n",
       "  <tbody>\n",
       "    <tr>\n",
       "      <th>232</th>\n",
       "      <td>All of Us Are Dead: Season 1: Episode 4</td>\n",
       "      <td>Teen-drama</td>\n",
       "      <td>18+</td>\n",
       "      <td>TV Show</td>\n",
       "      <td>76</td>\n",
       "      <td>South Korea</td>\n",
       "      <td>Park Ji-hu, Yoon Chan-young, Cho Yi-hyun, Lomo...</td>\n",
       "      <td>Korean</td>\n",
       "      <td>7.5</td>\n",
       "      <td>2.0</td>\n",
       "      <td>2022.0</td>\n",
       "      <td>NaN</td>\n",
       "      <td>NaN</td>\n",
       "      <td>NaN</td>\n",
       "    </tr>\n",
       "    <tr>\n",
       "      <th>233</th>\n",
       "      <td>All of Us Are Dead: Season 1: Episode 3</td>\n",
       "      <td>Teen-drama</td>\n",
       "      <td>18+</td>\n",
       "      <td>TV Show</td>\n",
       "      <td>76</td>\n",
       "      <td>South Korea</td>\n",
       "      <td>Park Ji-hu, Yoon Chan-young, Cho Yi-hyun, Lomo...</td>\n",
       "      <td>Korean</td>\n",
       "      <td>7.5</td>\n",
       "      <td>2.0</td>\n",
       "      <td>2022.0</td>\n",
       "      <td>NaN</td>\n",
       "      <td>NaN</td>\n",
       "      <td>NaN</td>\n",
       "    </tr>\n",
       "    <tr>\n",
       "      <th>234</th>\n",
       "      <td>All of Us Are Dead: Season 1: Episode 2</td>\n",
       "      <td>Teen-drama</td>\n",
       "      <td>18+</td>\n",
       "      <td>TV Show</td>\n",
       "      <td>76</td>\n",
       "      <td>South Korea</td>\n",
       "      <td>Park Ji-hu, Yoon Chan-young, Cho Yi-hyun, Lomo...</td>\n",
       "      <td>Korean</td>\n",
       "      <td>7.5</td>\n",
       "      <td>2.0</td>\n",
       "      <td>2022.0</td>\n",
       "      <td>NaN</td>\n",
       "      <td>NaN</td>\n",
       "      <td>NaN</td>\n",
       "    </tr>\n",
       "    <tr>\n",
       "      <th>235</th>\n",
       "      <td>All of Us Are Dead: Season 1: Episode 1</td>\n",
       "      <td>Teen-drama</td>\n",
       "      <td>18+</td>\n",
       "      <td>TV Show</td>\n",
       "      <td>76</td>\n",
       "      <td>South Korea</td>\n",
       "      <td>Park Ji-hu, Yoon Chan-young, Cho Yi-hyun, Lomo...</td>\n",
       "      <td>Korean</td>\n",
       "      <td>7.5</td>\n",
       "      <td>2.0</td>\n",
       "      <td>2022.0</td>\n",
       "      <td>NaN</td>\n",
       "      <td>NaN</td>\n",
       "      <td>NaN</td>\n",
       "    </tr>\n",
       "    <tr>\n",
       "      <th>236</th>\n",
       "      <td>Jaadugar</td>\n",
       "      <td>Dramedy</td>\n",
       "      <td>13+</td>\n",
       "      <td>Movie</td>\n",
       "      <td>167</td>\n",
       "      <td>India</td>\n",
       "      <td>Jitendra Kumar, Arushi Sharma, Jaaved Jaaferi,...</td>\n",
       "      <td>Hindi</td>\n",
       "      <td>6.9</td>\n",
       "      <td>1.0</td>\n",
       "      <td>2022.0</td>\n",
       "      <td>NaN</td>\n",
       "      <td>NaN</td>\n",
       "      <td>NaN</td>\n",
       "    </tr>\n",
       "    <tr>\n",
       "      <th>237</th>\n",
       "      <td>Interstellar</td>\n",
       "      <td>Sci-fi, Drama</td>\n",
       "      <td>13+</td>\n",
       "      <td>Movie</td>\n",
       "      <td>170</td>\n",
       "      <td>United States</td>\n",
       "      <td>Matthew McConaughey , Anne Hathaway , Jessica ...</td>\n",
       "      <td>English</td>\n",
       "      <td>8.7</td>\n",
       "      <td>1.0</td>\n",
       "      <td>2014.0</td>\n",
       "      <td>NaN</td>\n",
       "      <td>NaN</td>\n",
       "      <td>NaN</td>\n",
       "    </tr>\n",
       "    <tr>\n",
       "      <th>238</th>\n",
       "      <td>Lust Stories</td>\n",
       "      <td>Rom-com</td>\n",
       "      <td>18+</td>\n",
       "      <td>Movie</td>\n",
       "      <td>120</td>\n",
       "      <td>India</td>\n",
       "      <td>Kiara Advani, Vicky Kaushal, Bhumi Padnekar, R...</td>\n",
       "      <td>Hindi</td>\n",
       "      <td>7.3</td>\n",
       "      <td>1.0</td>\n",
       "      <td>2018.0</td>\n",
       "      <td>NaN</td>\n",
       "      <td>NaN</td>\n",
       "      <td>NaN</td>\n",
       "    </tr>\n",
       "    <tr>\n",
       "      <th>239</th>\n",
       "      <td>HIT: The First Case</td>\n",
       "      <td>Thriller</td>\n",
       "      <td>18+</td>\n",
       "      <td>Movie</td>\n",
       "      <td>141</td>\n",
       "      <td>India</td>\n",
       "      <td>Rajkummar Rao , Sanya Malhotra, Akhil Iyer , J...</td>\n",
       "      <td>Hindi</td>\n",
       "      <td>6.8</td>\n",
       "      <td>1.0</td>\n",
       "      <td>2022.0</td>\n",
       "      <td>NaN</td>\n",
       "      <td>NaN</td>\n",
       "      <td>NaN</td>\n",
       "    </tr>\n",
       "    <tr>\n",
       "      <th>240</th>\n",
       "      <td>Delhi Crime: Season 2: Episode 5</td>\n",
       "      <td>Thriller</td>\n",
       "      <td>18+</td>\n",
       "      <td>TV Show</td>\n",
       "      <td>48</td>\n",
       "      <td>India</td>\n",
       "      <td>Shefali Shah · Rasika Dugal · Rajesh Tailang ·...</td>\n",
       "      <td>Hindi</td>\n",
       "      <td>8.5</td>\n",
       "      <td>2.0</td>\n",
       "      <td>2022.0</td>\n",
       "      <td>NaN</td>\n",
       "      <td>NaN</td>\n",
       "      <td>NaN</td>\n",
       "    </tr>\n",
       "    <tr>\n",
       "      <th>241</th>\n",
       "      <td>Delhi Crime: Season 2: Episode 4</td>\n",
       "      <td>Thriller</td>\n",
       "      <td>18+</td>\n",
       "      <td>TV Show</td>\n",
       "      <td>42</td>\n",
       "      <td>India</td>\n",
       "      <td>Shefali Shah · Rasika Dugal · Rajesh Tailang ·...</td>\n",
       "      <td>Hindi</td>\n",
       "      <td>8.5</td>\n",
       "      <td>2.0</td>\n",
       "      <td>2022.0</td>\n",
       "      <td>NaN</td>\n",
       "      <td>NaN</td>\n",
       "      <td>NaN</td>\n",
       "    </tr>\n",
       "  </tbody>\n",
       "</table>\n",
       "</div>"
      ],
      "text/plain": [
       "                                       Title          Genre Age Rating  \\\n",
       "232  All of Us Are Dead: Season 1: Episode 4     Teen-drama        18+   \n",
       "233  All of Us Are Dead: Season 1: Episode 3     Teen-drama        18+   \n",
       "234  All of Us Are Dead: Season 1: Episode 2     Teen-drama        18+   \n",
       "235  All of Us Are Dead: Season 1: Episode 1     Teen-drama        18+   \n",
       "236                                 Jaadugar        Dramedy        13+   \n",
       "237                             Interstellar  Sci-fi, Drama        13+   \n",
       "238                             Lust Stories        Rom-com        18+   \n",
       "239                      HIT: The First Case       Thriller        18+   \n",
       "240         Delhi Crime: Season 2: Episode 5       Thriller        18+   \n",
       "241         Delhi Crime: Season 2: Episode 4       Thriller        18+   \n",
       "\n",
       "    Content Type  Duration(min) Origin Country  \\\n",
       "232      TV Show             76    South Korea   \n",
       "233      TV Show             76    South Korea   \n",
       "234      TV Show             76    South Korea   \n",
       "235      TV Show             76    South Korea   \n",
       "236        Movie            167          India   \n",
       "237        Movie            170  United States   \n",
       "238        Movie            120          India   \n",
       "239        Movie            141          India   \n",
       "240      TV Show             48          India   \n",
       "241      TV Show             42          India   \n",
       "\n",
       "                                             Main Cast    Audio  IMDB rate  \\\n",
       "232  Park Ji-hu, Yoon Chan-young, Cho Yi-hyun, Lomo...   Korean        7.5   \n",
       "233  Park Ji-hu, Yoon Chan-young, Cho Yi-hyun, Lomo...   Korean        7.5   \n",
       "234  Park Ji-hu, Yoon Chan-young, Cho Yi-hyun, Lomo...   Korean        7.5   \n",
       "235  Park Ji-hu, Yoon Chan-young, Cho Yi-hyun, Lomo...   Korean        7.5   \n",
       "236  Jitendra Kumar, Arushi Sharma, Jaaved Jaaferi,...    Hindi        6.9   \n",
       "237  Matthew McConaughey , Anne Hathaway , Jessica ...  English        8.7   \n",
       "238  Kiara Advani, Vicky Kaushal, Bhumi Padnekar, R...    Hindi        7.3   \n",
       "239  Rajkummar Rao , Sanya Malhotra, Akhil Iyer , J...    Hindi        6.8   \n",
       "240  Shefali Shah · Rasika Dugal · Rajesh Tailang ·...    Hindi        8.5   \n",
       "241  Shefali Shah · Rasika Dugal · Rajesh Tailang ·...    Hindi        8.5   \n",
       "\n",
       "     Seasons  Release Year  Unnamed: 11  Unnamed: 12  Unnamed: 13  \n",
       "232      2.0        2022.0          NaN          NaN          NaN  \n",
       "233      2.0        2022.0          NaN          NaN          NaN  \n",
       "234      2.0        2022.0          NaN          NaN          NaN  \n",
       "235      2.0        2022.0          NaN          NaN          NaN  \n",
       "236      1.0        2022.0          NaN          NaN          NaN  \n",
       "237      1.0        2014.0          NaN          NaN          NaN  \n",
       "238      1.0        2018.0          NaN          NaN          NaN  \n",
       "239      1.0        2022.0          NaN          NaN          NaN  \n",
       "240      2.0        2022.0          NaN          NaN          NaN  \n",
       "241      2.0        2022.0          NaN          NaN          NaN  "
      ]
     },
     "execution_count": 17,
     "metadata": {},
     "output_type": "execute_result"
    }
   ],
   "source": [
    "data.tail(10)"
   ]
  },
  {
   "cell_type": "code",
   "execution_count": 18,
   "id": "13ff46bb",
   "metadata": {},
   "outputs": [
    {
     "data": {
      "text/plain": [
       "(242, 14)"
      ]
     },
     "execution_count": 18,
     "metadata": {},
     "output_type": "execute_result"
    }
   ],
   "source": [
    "data.shape"
   ]
  },
  {
   "cell_type": "code",
   "execution_count": 19,
   "id": "43c0fcd9",
   "metadata": {},
   "outputs": [
    {
     "data": {
      "text/plain": [
       "Index(['Title', 'Genre', 'Age Rating', 'Content Type', 'Duration(min)',\n",
       "       'Origin Country', 'Main Cast', 'Audio', 'IMDB rate', 'Seasons',\n",
       "       'Release Year', 'Unnamed: 11', 'Unnamed: 12', 'Unnamed: 13'],\n",
       "      dtype='object')"
      ]
     },
     "execution_count": 19,
     "metadata": {},
     "output_type": "execute_result"
    }
   ],
   "source": [
    "data.columns"
   ]
  },
  {
   "cell_type": "code",
   "execution_count": 20,
   "id": "d94ea07d",
   "metadata": {},
   "outputs": [
    {
     "data": {
      "text/plain": [
       "0      Crime, Fantasy\n",
       "2      Crime, Fantasy\n",
       "4              Action\n",
       "6              Comedy\n",
       "8             Romance\n",
       "            ...      \n",
       "232        Teen-drama\n",
       "234        Teen-drama\n",
       "236           Dramedy\n",
       "238           Rom-com\n",
       "240          Thriller\n",
       "Name: Genre, Length: 121, dtype: object"
      ]
     },
     "execution_count": 20,
     "metadata": {},
     "output_type": "execute_result"
    }
   ],
   "source": [
    "#genre at even indexes\n",
    "data['Genre'][0::2]"
   ]
  },
  {
   "cell_type": "markdown",
   "id": "cc686bc3",
   "metadata": {},
   "source": [
    "# EDA"
   ]
  },
  {
   "cell_type": "markdown",
   "id": "861db623",
   "metadata": {},
   "source": [
    "# Data Cleaning"
   ]
  },
  {
   "cell_type": "code",
   "execution_count": 21,
   "id": "636d1ada",
   "metadata": {},
   "outputs": [
    {
     "name": "stdout",
     "output_type": "stream",
     "text": [
      "<class 'pandas.core.frame.DataFrame'>\n",
      "RangeIndex: 242 entries, 0 to 241\n",
      "Data columns (total 14 columns):\n",
      " #   Column          Non-Null Count  Dtype  \n",
      "---  ------          --------------  -----  \n",
      " 0   Title           242 non-null    object \n",
      " 1   Genre           242 non-null    object \n",
      " 2   Age Rating      235 non-null    object \n",
      " 3   Content Type    232 non-null    object \n",
      " 4   Duration(min)   242 non-null    int64  \n",
      " 5   Origin Country  242 non-null    object \n",
      " 6   Main Cast       242 non-null    object \n",
      " 7   Audio           235 non-null    object \n",
      " 8   IMDB rate       242 non-null    float64\n",
      " 9   Seasons         223 non-null    float64\n",
      " 10  Release Year    240 non-null    float64\n",
      " 11  Unnamed: 11     0 non-null      float64\n",
      " 12  Unnamed: 12     0 non-null      float64\n",
      " 13  Unnamed: 13     1 non-null      float64\n",
      "dtypes: float64(6), int64(1), object(7)\n",
      "memory usage: 26.6+ KB\n"
     ]
    }
   ],
   "source": [
    "#checking details of dataset\n",
    "data.info()"
   ]
  },
  {
   "cell_type": "code",
   "execution_count": 22,
   "id": "989797ad",
   "metadata": {},
   "outputs": [
    {
     "data": {
      "text/plain": [
       "30"
      ]
     },
     "execution_count": 22,
     "metadata": {},
     "output_type": "execute_result"
    }
   ],
   "source": [
    "#Find the duplicates\n",
    "\n",
    "data.duplicated().sum()"
   ]
  },
  {
   "cell_type": "code",
   "execution_count": 23,
   "id": "ac163a1d",
   "metadata": {},
   "outputs": [
    {
     "data": {
      "text/plain": [
       "array(['Crime, Fantasy', 'Action', 'Comedy', 'Romance', 'Reality',\n",
       "       'Drama', 'Dramedy', 'Revenge, Emotional', 'Suspense, Fantasy',\n",
       "       'Teen-drama', 'Emotional', 'Rom-com', 'Slice-of-life',\n",
       "       'Crime, Suspense', 'Suspense', 'Fantasy', 'Period-piece',\n",
       "       'Lifestyle', 'Thriller', 'Crime, Emotional', 'Documentary',\n",
       "       'Coming-Of-Life', 'Dark Drama', 'Sci-fi, Drama'], dtype=object)"
      ]
     },
     "execution_count": 23,
     "metadata": {},
     "output_type": "execute_result"
    }
   ],
   "source": [
    "#unique values\n",
    "\n",
    "data['Genre'].unique()"
   ]
  },
  {
   "cell_type": "code",
   "execution_count": 24,
   "id": "6a65e6d4",
   "metadata": {},
   "outputs": [
    {
     "data": {
      "text/plain": [
       "array(['United States', 'South Korea', 'India', 'Spain', 'United Kingdom',\n",
       "       'Japan'], dtype=object)"
      ]
     },
     "execution_count": 24,
     "metadata": {},
     "output_type": "execute_result"
    }
   ],
   "source": [
    "data['Origin Country'].unique()"
   ]
  },
  {
   "cell_type": "code",
   "execution_count": 25,
   "id": "d2774bbd",
   "metadata": {},
   "outputs": [
    {
     "data": {
      "text/plain": [
       "Title               0\n",
       "Genre               0\n",
       "Age Rating          7\n",
       "Content Type       10\n",
       "Duration(min)       0\n",
       "Origin Country      0\n",
       "Main Cast           0\n",
       "Audio               7\n",
       "IMDB rate           0\n",
       "Seasons            19\n",
       "Release Year        2\n",
       "Unnamed: 11       242\n",
       "Unnamed: 12       242\n",
       "Unnamed: 13       241\n",
       "dtype: int64"
      ]
     },
     "execution_count": 25,
     "metadata": {},
     "output_type": "execute_result"
    }
   ],
   "source": [
    "#Find null values\n",
    "\n",
    "data.isnull().sum()"
   ]
  },
  {
   "cell_type": "code",
   "execution_count": 26,
   "id": "ecb09a54",
   "metadata": {},
   "outputs": [
    {
     "data": {
      "text/plain": [
       "Title             0\n",
       "Genre             0\n",
       "Age Rating        0\n",
       "Content Type      0\n",
       "Duration(min)     0\n",
       "Origin Country    0\n",
       "Main Cast         0\n",
       "Audio             0\n",
       "IMDB rate         0\n",
       "Seasons           0\n",
       "Release Year      0\n",
       "Unnamed: 11       0\n",
       "Unnamed: 12       0\n",
       "Unnamed: 13       0\n",
       "dtype: int64"
      ]
     },
     "execution_count": 26,
     "metadata": {},
     "output_type": "execute_result"
    }
   ],
   "source": [
    "#Replace null values\n",
    "\n",
    "data.replace(np.nan,'0',inplace = True)\n",
    "\n",
    "#Check the changes now\n",
    "data.isnull().sum()"
   ]
  },
  {
   "cell_type": "markdown",
   "id": "d6e11eaa",
   "metadata": {},
   "source": [
    "# Data Visualization"
   ]
  },
  {
   "cell_type": "code",
   "execution_count": 27,
   "id": "6c625a00",
   "metadata": {},
   "outputs": [
    {
     "data": {
      "text/plain": [
       "<AxesSubplot:xlabel='Origin Country', ylabel='count'>"
      ]
     },
     "execution_count": 27,
     "metadata": {},
     "output_type": "execute_result"
    },
    {
     "data": {
      "image/png": "[encoded data removed]",
      "text/plain": [
       "<Figure size 640x480 with 1 Axes>"
      ]
     },
     "metadata": {},
     "output_type": "display_data"
    }
   ],
   "source": [
    "#Plot the unique values\n",
    "\n",
    "values= data['Origin Country']\n",
    "sns.countplot(values)"
   ]
  },
  {
   "cell_type": "code",
   "execution_count": 28,
   "id": "7960c90d",
   "metadata": {},
   "outputs": [
    {
     "data": {
      "image/png": "[encoded data removed]",
      "text/plain": [
       "<Figure size 640x480 with 1 Axes>"
      ]
     },
     "metadata": {},
     "output_type": "display_data"
    }
   ],
   "source": [
    "#distribution of rating\n",
    "labels= ['13+', '16+', '18+']\n",
    "colors=['blue', 'yellow', 'orange']\n",
    "x= ['100','58','89']\n",
    "\n",
    "plt.pie(x,labels=labels, colors=colors, startangle=90, autopct='%1.1f%%',shadow= True,explode=(0.1, 0.1, 0.1))\n",
    "plt.title(\"Age distribution\")\n",
    "plt.axis('equal')\n",
    "plt.show()"
   ]
  },
  {
   "cell_type": "code",
   "execution_count": 29,
   "id": "c032b1f5",
   "metadata": {},
   "outputs": [
    {
     "data": {
      "text/html": [
       "<div>\n",
       "<style scoped>\n",
       "    .dataframe tbody tr th:only-of-type {\n",
       "        vertical-align: middle;\n",
       "    }\n",
       "\n",
       "    .dataframe tbody tr th {\n",
       "        vertical-align: top;\n",
       "    }\n",
       "\n",
       "    .dataframe thead th {\n",
       "        text-align: right;\n",
       "    }\n",
       "</style>\n",
       "<table border=\"1\" class=\"dataframe\">\n",
       "  <thead>\n",
       "    <tr style=\"text-align: right;\">\n",
       "      <th></th>\n",
       "      <th>Title</th>\n",
       "      <th>Genre</th>\n",
       "      <th>Age Rating</th>\n",
       "      <th>Content Type</th>\n",
       "      <th>Duration(min)</th>\n",
       "      <th>Origin Country</th>\n",
       "      <th>Main Cast</th>\n",
       "      <th>Audio</th>\n",
       "      <th>IMDB rate</th>\n",
       "      <th>Seasons</th>\n",
       "      <th>Release Year</th>\n",
       "      <th>Unnamed: 11</th>\n",
       "      <th>Unnamed: 12</th>\n",
       "      <th>Unnamed: 13</th>\n",
       "    </tr>\n",
       "  </thead>\n",
       "  <tbody>\n",
       "    <tr>\n",
       "      <th>26</th>\n",
       "      <td>Tu Jhoothi Main Makkaar</td>\n",
       "      <td>Drama</td>\n",
       "      <td>13+</td>\n",
       "      <td>Movie</td>\n",
       "      <td>159</td>\n",
       "      <td>India</td>\n",
       "      <td>Ranbir Kapoor, Shradhha Kapoor, Anubhav S. Bassi</td>\n",
       "      <td>Hindi</td>\n",
       "      <td>6.1</td>\n",
       "      <td>0</td>\n",
       "      <td>2023.0</td>\n",
       "      <td>0</td>\n",
       "      <td>0</td>\n",
       "      <td>0</td>\n",
       "    </tr>\n",
       "    <tr>\n",
       "      <th>57</th>\n",
       "      <td>Valeria: Season 3: Getting Old</td>\n",
       "      <td>Drama</td>\n",
       "      <td>18+</td>\n",
       "      <td>TV Show</td>\n",
       "      <td>61</td>\n",
       "      <td>Spain</td>\n",
       "      <td>Diana Gómez , Silma López,  Paula Malia, Tere...</td>\n",
       "      <td>Spanish</td>\n",
       "      <td>6.6</td>\n",
       "      <td>3.0</td>\n",
       "      <td>2020.0</td>\n",
       "      <td>0</td>\n",
       "      <td>0</td>\n",
       "      <td>0</td>\n",
       "    </tr>\n",
       "    <tr>\n",
       "      <th>58</th>\n",
       "      <td>Valeria: Season 3: The Word</td>\n",
       "      <td>Drama</td>\n",
       "      <td>18+</td>\n",
       "      <td>TV Show</td>\n",
       "      <td>61</td>\n",
       "      <td>Spain</td>\n",
       "      <td>Diana Gómez , Silma López,  Paula Malia, Tere...</td>\n",
       "      <td>Spanish</td>\n",
       "      <td>6.6</td>\n",
       "      <td>3.0</td>\n",
       "      <td>2020.0</td>\n",
       "      <td>0</td>\n",
       "      <td>0</td>\n",
       "      <td>0</td>\n",
       "    </tr>\n",
       "    <tr>\n",
       "      <th>59</th>\n",
       "      <td>Valeria: Season 3: Taste You</td>\n",
       "      <td>Drama</td>\n",
       "      <td>18+</td>\n",
       "      <td>TV Show</td>\n",
       "      <td>61</td>\n",
       "      <td>Spain</td>\n",
       "      <td>Diana Gómez , Silma López,  Paula Malia, Tere...</td>\n",
       "      <td>Spanish</td>\n",
       "      <td>6.6</td>\n",
       "      <td>3.0</td>\n",
       "      <td>2020.0</td>\n",
       "      <td>0</td>\n",
       "      <td>0</td>\n",
       "      <td>0</td>\n",
       "    </tr>\n",
       "    <tr>\n",
       "      <th>72</th>\n",
       "      <td>Valeria: Season 3: I Was There</td>\n",
       "      <td>Drama</td>\n",
       "      <td>18+</td>\n",
       "      <td>TV Show</td>\n",
       "      <td>61</td>\n",
       "      <td>Spain</td>\n",
       "      <td>Diana Gómez , Silma López,  Paula Malia, Tere...</td>\n",
       "      <td>Spanish</td>\n",
       "      <td>6.6</td>\n",
       "      <td>3.0</td>\n",
       "      <td>2020.0</td>\n",
       "      <td>0</td>\n",
       "      <td>0</td>\n",
       "      <td>0</td>\n",
       "    </tr>\n",
       "  </tbody>\n",
       "</table>\n",
       "</div>"
      ],
      "text/plain": [
       "                             Title  Genre Age Rating Content Type  \\\n",
       "26         Tu Jhoothi Main Makkaar  Drama        13+        Movie   \n",
       "57  Valeria: Season 3: Getting Old  Drama        18+      TV Show   \n",
       "58     Valeria: Season 3: The Word  Drama        18+      TV Show   \n",
       "59    Valeria: Season 3: Taste You  Drama        18+      TV Show   \n",
       "72  Valeria: Season 3: I Was There  Drama        18+      TV Show   \n",
       "\n",
       "    Duration(min) Origin Country  \\\n",
       "26            159          India   \n",
       "57             61          Spain   \n",
       "58             61          Spain   \n",
       "59             61          Spain   \n",
       "72             61          Spain   \n",
       "\n",
       "                                            Main Cast    Audio  IMDB rate  \\\n",
       "26   Ranbir Kapoor, Shradhha Kapoor, Anubhav S. Bassi    Hindi        6.1   \n",
       "57   Diana Gómez , Silma López,  Paula Malia, Tere...  Spanish        6.6   \n",
       "58   Diana Gómez , Silma López,  Paula Malia, Tere...  Spanish        6.6   \n",
       "59   Diana Gómez , Silma López,  Paula Malia, Tere...  Spanish        6.6   \n",
       "72   Diana Gómez , Silma López,  Paula Malia, Tere...  Spanish        6.6   \n",
       "\n",
       "   Seasons Release Year Unnamed: 11 Unnamed: 12 Unnamed: 13  \n",
       "26       0       2023.0           0           0           0  \n",
       "57     3.0       2020.0           0           0           0  \n",
       "58     3.0       2020.0           0           0           0  \n",
       "59     3.0       2020.0           0           0           0  \n",
       "72     3.0       2020.0           0           0           0  "
      ]
     },
     "execution_count": 29,
     "metadata": {},
     "output_type": "execute_result"
    }
   ],
   "source": [
    "#Filter data\n",
    "\n",
    "data[data['Genre']=='Drama'].head()"
   ]
  },
  {
   "cell_type": "code",
   "execution_count": 30,
   "id": "f4b8b261",
   "metadata": {},
   "outputs": [
    {
     "data": {
      "text/plain": [
       "<AxesSubplot:>"
      ]
     },
     "execution_count": 30,
     "metadata": {},
     "output_type": "execute_result"
    },
    {
     "data": {
      "image/png": "[encoded data removed]",
      "text/plain": [
       "<Figure size 640x480 with 2 Axes>"
      ]
     },
     "metadata": {},
     "output_type": "display_data"
    }
   ],
   "source": [
    "#Correlation plot\n",
    "\n",
    "data.corr()\n",
    "sns.heatmap(data.corr())"
   ]
  },
  {
   "cell_type": "code",
   "execution_count": 31,
   "id": "3e69b81c",
   "metadata": {},
   "outputs": [
    {
     "data": {
      "text/plain": [
       "Text(0.5, 1.0, 'Content Type')"
      ]
     },
     "execution_count": 31,
     "metadata": {},
     "output_type": "execute_result"
    },
    {
     "data": {
      "image/png": "[encoded data removed]",
      "text/plain": [
       "<Figure size 700x700 with 1 Axes>"
      ]
     },
     "metadata": {},
     "output_type": "display_data"
    }
   ],
   "source": [
    "#content distribution\n",
    "sns.countplot(data['Content Type'])\n",
    "fig = plt.gcf()\n",
    "fig.set_size_inches(7,7)\n",
    "plt.title('Content Type')"
   ]
  },
  {
   "cell_type": "code",
   "execution_count": 32,
   "id": "68194742",
   "metadata": {},
   "outputs": [
    {
     "data": {
      "image/png": "[encoded data removed]",
      "text/plain": [
       "<Figure size 1000x700 with 1 Axes>"
      ]
     },
     "metadata": {},
     "output_type": "display_data"
    }
   ],
   "source": [
    "plt.figure(figsize=(10,7))\n",
    "sns.set(style=\"whitegrid\")\n",
    "sns.distplot(data['IMDB rate'],color ='red')\n",
    "plt.title(\"Distribution of imdb rating\",fontsize=20)\n",
    "plt.xlabel(\"Rate\",fontsize=15,color='blue')\n",
    "plt.ylabel(\"Count\",fontsize=15,color='blue')\n",
    "plt.show()"
   ]
  },
  {
   "cell_type": "code",
   "execution_count": 33,
   "id": "f6986e3c",
   "metadata": {},
   "outputs": [
    {
     "data": {
      "text/plain": [
       "<Figure size 1500x1500 with 0 Axes>"
      ]
     },
     "metadata": {},
     "output_type": "display_data"
    },
    {
     "data": {
      "image/png": "[encoded data removed]",
      "text/plain": [
       "<Figure size 500x500 with 6 Axes>"
      ]
     },
     "metadata": {},
     "output_type": "display_data"
    }
   ],
   "source": [
    "plt.figure(figsize=(15,15))\n",
    "sns.pairplot(data)\n",
    "plt.show()"
   ]
  },
  {
   "cell_type": "markdown",
   "id": "460cf4ef",
   "metadata": {},
   "source": [
    "# Conclusion:\n",
    "    The python library contains many various libraries and methods inside it which is useful for exploratory data analysis and various types of data visualisation. Hence, this was a small attempt made by me while learning about these libraries and exploring them."
   ]
  }
 ],
 "metadata": {
  "kernelspec": {
   "display_name": "Python 3 (ipykernel)",
   "language": "python",
   "name": "python3"
  },
  "language_info": {
   "codemirror_mode": {
    "name": "ipython",
    "version": 3
   },
   "file_extension": ".py",
   "mimetype": "text/x-python",
   "name": "python",
   "nbconvert_exporter": "python",
   "pygments_lexer": "ipython3",
   "version": "3.9.13"
  }
 },
 "nbformat": 4,
 "nbformat_minor": 5
}
